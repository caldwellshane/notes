{
 "cells": [
  {
   "cell_type": "code",
   "execution_count": null,
   "metadata": {},
   "outputs": [],
   "source": [
    "#default_exp core.pauli"
   ]
  },
  {
   "cell_type": "code",
   "execution_count": null,
   "metadata": {},
   "outputs": [],
   "source": [
    "#hide\n",
    "\n",
    "from nbdev.showdoc import *\n",
    "from nbdev.imports import *"
   ]
  },
  {
   "cell_type": "code",
   "execution_count": null,
   "metadata": {},
   "outputs": [],
   "source": [
    "#export\n",
    "\n",
    "from functools import cache\n",
    "from typing import Tuple\n",
    "\n",
    "import numpy as np"
   ]
  },
  {
   "cell_type": "markdown",
   "metadata": {},
   "source": [
    "# Pauli\n",
    "\n",
    "> Definition of the Pauli matrices, and useful methods for them."
   ]
  },
  {
   "cell_type": "code",
   "execution_count": null,
   "metadata": {},
   "outputs": [],
   "source": [
    "#export\n",
    "\n",
    "\"\"\"Definition of the Pauli matrices.\"\"\"\n",
    "pauli_matrices = (\n",
    "    np.identity(2),\n",
    "    np.array([[0, 1], [1, 0]]),\n",
    "    np.array([[0, -1j], [1j, 0]]),\n",
    "    np.array([[1, 0], [0, -1]]),\n",
    ")\n",
    "\n",
    "pauli_names = (\"I\", \"X\", \"Y\", \"Z\")"
   ]
  },
  {
   "cell_type": "code",
   "execution_count": null,
   "metadata": {},
   "outputs": [],
   "source": [
    "# Each Pauli squares to the identity\n",
    "for i in range(4):\n",
    "    test_eq(pauli_matrices[i] @ pauli_matrices[i], np.identity(2))"
   ]
  },
  {
   "cell_type": "code",
   "execution_count": null,
   "metadata": {},
   "outputs": [],
   "source": [
    "#export\n",
    "\n",
    "class PauliOperator:\n",
    "    \"\"\"\n",
    "    Multi-qubit Pauli operator.\n",
    "    \n",
    "    The operator acts on a basis whose dimensions are indexed by self.indices. When written as\n",
    "    a tensor product, the lowest index is on the right, corresponding to the least significant\n",
    "    digit in a bitstring.\n",
    "    \"\"\"\n",
    "    def __init__(self, indices: Tuple[int, ...]):\n",
    "        \"\"\"\n",
    "        Initialize the operation from the indices of each Pauli matrix.\n",
    "        \n",
    "        index 0 = I\n",
    "        index 1 = X\n",
    "        index 2 = Y\n",
    "        index 3 = Z\n",
    "        \"\"\"\n",
    "        if any([idx not in {0, 1, 2, 3} for idx in indices]):\n",
    "            raise ValueError(f\"All indices must be in {{0, 1, 2, 3}}.\")\n",
    "        self.dim = 2 ** len(indices)\n",
    "        self.indices = indices\n",
    "    \n",
    "    @property\n",
    "    @cache\n",
    "    def matrix(self):\n",
    "        \"\"\"\n",
    "        Calculate and cache the matrix representation of this Pauli. Subsequent calls to \n",
    "        \"\"\"\n",
    "        if len(self.indices) > 16:\n",
    "            raise ValueError(\n",
    "                \"Good grief, this is a didactic exercise. We won't allocate more than \"\n",
    "                f\"16 qubits ({len(self.indices)} requested).\")\n",
    "        return reduce(\n",
    "            lambda x, y: np.kron(x, y),\n",
    "            reversed(\n",
    "                list(\n",
    "                    map(\n",
    "                        lambda idx: pauli_matrices[idx],\n",
    "                        self.indices\n",
    "                    )\n",
    "                )\n",
    "            )\n",
    "        )\n",
    "    \n",
    "    @staticmethod\n",
    "    def name(indices: Tuple[int, ...]) -> str:\n",
    "        \"\"\"\n",
    "        Compute the name of a PauliOperator with given indices. Note the written operator\n",
    "        has the lowest index on the right.\n",
    "        \n",
    "        Example: indices (1, 3) -> \"ZX\"\n",
    "        \"\"\"\n",
    "        return \"\".join(map(lambda x: pauli_names[x], reversed(indices)))\n",
    "\n",
    "    def __repr__(self):\n",
    "        return \"PauliOperator \" + \"\".join(map(lambda x: pauli_names[x], reversed(self.indices)))\n",
    "    \n",
    "    def __str__(self):\n",
    "        return self.name(self.indices)\n"
   ]
  },
  {
   "cell_type": "code",
   "execution_count": null,
   "metadata": {},
   "outputs": [],
   "source": [
    "p = PauliOperator((3, 1))\n",
    "\n",
    "# PauliOperator.dim\n",
    "test_eq(p.dim, 4)\n",
    "\n",
    "# PauliOperator.matrix\n",
    "test_eq(p.matrix, np.array([[0, 0, 1, 0], [0, 0, 0, -1], [1, 0, 0, 0], [0, -1, 0, 0]]))\n",
    "\n",
    "# PauliOperator.__repr__\n",
    "test_eq(p.__repr__(), \"PauliOperator XZ\")\n",
    "\n",
    "# PauliOperator.__str__\n",
    "test_eq(p.__str__(), \"XZ\")\n",
    "\n",
    "# Indices have to be in {0, 1, 2, 3}\n",
    "test_fail(lambda: PauliOperator(indices=(0, 1, 2, 3, 4)))\n",
    "\n",
    "# Only up to 16 qubits allowed\n",
    "p = PauliOperator(indices=(0, 1, 2, 3, 0, 1, 2, 3, 0, 1, 2, 3, 0, 1, 2, 3, 0))\n",
    "test_fail(lambda: p.matrix)"
   ]
  },
  {
   "cell_type": "code",
   "execution_count": null,
   "metadata": {},
   "outputs": [
    {
     "name": "stdout",
     "output_type": "stream",
     "text": [
      "Converted core.pauli.ipynb.\n",
      "Converted index.ipynb.\n",
      "Converted tomography.ipynb.\n"
     ]
    }
   ],
   "source": [
    "from nbdev.export import notebook2script; notebook2script()"
   ]
  },
  {
   "cell_type": "code",
   "execution_count": null,
   "metadata": {},
   "outputs": [],
   "source": []
  }
 ],
 "metadata": {
  "kernelspec": {
   "display_name": "Python [conda env:notes]",
   "language": "python",
   "name": "conda-env-notes-py"
  }
 },
 "nbformat": 4,
 "nbformat_minor": 4
}
