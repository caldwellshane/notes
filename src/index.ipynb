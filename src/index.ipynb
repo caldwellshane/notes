{
 "cells": [
  {
   "cell_type": "code",
   "execution_count": null,
   "metadata": {},
   "outputs": [],
   "source": [
    "#hide\n",
    "from notes import *"
   ]
  },
  {
   "cell_type": "markdown",
   "metadata": {},
   "source": [
    "# Notes\n",
    "\n",
    "Shane's workspace for didactic exploration of tools and topics.\n",
    "\n",
    "I'm using this mainly as a way to experiment with `nbdev`, and if all goes well I'd like to continue\n",
    "using it to preserve my own implementations of things I've learned. There's no grand plan at this\n",
    "point."
   ]
  },
  {
   "cell_type": "markdown",
   "metadata": {},
   "source": [
    "## Install\n",
    "\n",
    "`pip install notes`"
   ]
  },
  {
   "cell_type": "markdown",
   "metadata": {},
   "source": [
    "## How to use\n",
    "\n",
    "For now, the documentation is inline with the code in each notebook. Note also that examples and\n",
    "tests are combined in cells that do not begin with the `#export` pragma. Both the examples and the\n",
    "tests are run during CI.\n",
    "\n",
    "## Contributing\n",
    "To convert all notebooks to `.py` source files, use `nbdev_build_lib`."
   ]
  }
 ],
 "metadata": {
  "kernelspec": {
   "display_name": "Python 3",
   "language": "python",
   "name": "python3"
  }
 },
 "nbformat": 4,
 "nbformat_minor": 2
}
